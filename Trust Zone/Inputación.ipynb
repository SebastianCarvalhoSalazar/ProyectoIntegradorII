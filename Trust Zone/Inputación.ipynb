{
 "cells": [
  {
   "cell_type": "code",
   "execution_count": null,
   "metadata": {},
   "outputs": [],
   "source": [
    "import pandas as pd\n",
    "\n",
    "# Cargar el archivo CSV\n",
    "data = pd.read_csv(\"data_completa_abril_2024.csv\")\n",
    "\n",
    "# Definir la función de imputación con la mediana\n",
    "def reemplazar_cero_por_mediana(row):\n",
    "    if row['Qty_passangers'] == 0:\n",
    "        return row['Mediana']\n",
    "    else:\n",
    "        return row['Qty_passangers']\n",
    "\n",
    "# Aplicar la función a la columna 'Qty_passangers'\n",
    "data['Qty_passangers'] = data.apply(reemplazar_cero_por_mediana, axis=1)\n",
    "\n",
    "# Guardar el resultado en un nuevo archivo CSV\n",
    "data.to_csv(\"DataImputed2024.csv\", index=False)"
   ]
  }
 ],
 "metadata": {
  "kernelspec": {
   "display_name": "base",
   "language": "python",
   "name": "python3"
  },
  "language_info": {
   "name": "python",
   "version": "3.8.18"
  }
 },
 "nbformat": 4,
 "nbformat_minor": 2
}
